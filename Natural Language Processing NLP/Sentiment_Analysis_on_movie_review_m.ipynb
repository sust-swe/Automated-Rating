{
 "cells": [
  {
   "cell_type": "markdown",
   "metadata": {
    "colab_type": "text",
    "id": "qGQp1Vt_o1Yf"
   },
   "source": [
    "# **Sentiment Analysis by NLP**"
   ]
  },
  {
   "cell_type": "markdown",
   "metadata": {
    "colab_type": "text",
    "id": "1jsSV0F97uKY"
   },
   "source": [
    "We'll be using a dataset from the [Datasets for movie reviews](https://www.kaggle.com/c/sentiment-analysis-on-movie-reviews/data)! This dataset is already located in the folder for this section."
   ]
  },
  {
   "cell_type": "markdown",
   "metadata": {
    "colab_type": "text",
    "id": "W9Pia_OFnPTy"
   },
   "source": [
    "### Run one time only"
   ]
  },
  {
   "cell_type": "code",
   "execution_count": 0,
   "metadata": {
    "colab": {
     "base_uri": "https://localhost:8080/",
     "height": 35
    },
    "colab_type": "code",
    "id": "HF7xz9kKt3Ry",
    "outputId": "dbf447df-47e7-43b9-a085-307ae968c799"
   },
   "outputs": [
    {
     "data": {
      "text/plain": [
       "\"\\nd=[]\\nwhile(1):\\n  d.append('1')\\n\""
      ]
     },
     "execution_count": 1,
     "metadata": {
      "tags": []
     },
     "output_type": "execute_result"
    }
   ],
   "source": [
    "# to increase ram\n",
    "'''\n",
    "d=[]\n",
    "while(1):\n",
    "  d.append('1')\n",
    "'''"
   ]
  },
  {
   "cell_type": "markdown",
   "metadata": {
    "colab_type": "text",
    "id": "wnXkivFActVR"
   },
   "source": [
    "### **Load Everything**"
   ]
  },
  {
   "cell_type": "code",
   "execution_count": 1,
   "metadata": {
    "colab": {},
    "colab_type": "code",
    "id": "FZR5ZZZVcqii"
   },
   "outputs": [],
   "source": [
    "#Load the libraries\n",
    "import numpy as np\n",
    "import pandas as pd\n",
    "import seaborn as sns\n",
    "import matplotlib.pyplot as plt\n",
    "import nltk\n",
    "from sklearn.feature_extraction.text import CountVectorizer\n",
    "from sklearn.feature_extraction.text import TfidfVectorizer\n",
    "from sklearn.preprocessing import LabelBinarizer\n",
    "from nltk.corpus import stopwords\n",
    "from nltk.stem.porter import PorterStemmer\n",
    "from wordcloud import WordCloud,STOPWORDS\n",
    "from nltk.stem import WordNetLemmatizer\n",
    "from nltk.tokenize import word_tokenize,sent_tokenize\n",
    "from bs4 import BeautifulSoup\n",
    "import spacy\n",
    "import re,string,unicodedata\n",
    "from nltk.tokenize.toktok import ToktokTokenizer\n",
    "from nltk.stem import LancasterStemmer,WordNetLemmatizer\n",
    "from sklearn.linear_model import LogisticRegression,SGDClassifier\n",
    "from sklearn.naive_bayes import MultinomialNB\n",
    "from sklearn.svm import SVC\n",
    "from textblob import TextBlob\n",
    "from textblob import Word\n",
    "from sklearn.metrics import classification_report,confusion_matrix,accuracy_score"
   ]
  },
  {
   "cell_type": "markdown",
   "metadata": {
    "colab_type": "text",
    "id": "f2AnCTxN8Lov"
   },
   "source": [
    "### **Upload and Read Dataset**"
   ]
  },
  {
   "cell_type": "code",
   "execution_count": 0,
   "metadata": {
    "colab": {
     "base_uri": "https://localhost:8080/",
     "height": 75,
     "resources": {
      "http://localhost:8080/nbextensions/google.colab/files.js": {
       "data": "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",
       "headers": [
        [
         "content-type",
         "application/javascript"
        ]
       ],
       "ok": true,
       "status": 200,
       "status_text": ""
      }
     }
    },
    "colab_type": "code",
    "id": "7-BIqyYIcqHw",
    "outputId": "ce5dba10-39b7-48c8-b972-96ae5d5a1523"
   },
   "outputs": [
    {
     "data": {
      "text/html": [
       "\n",
       "     <input type=\"file\" id=\"files-d0c7162c-0214-429e-a3de-90ccf339d71d\" name=\"files[]\" multiple disabled />\n",
       "     <output id=\"result-d0c7162c-0214-429e-a3de-90ccf339d71d\">\n",
       "      Upload widget is only available when the cell has been executed in the\n",
       "      current browser session. Please rerun this cell to enable.\n",
       "      </output>\n",
       "      <script src=\"/nbextensions/google.colab/files.js\"></script> "
      ],
      "text/plain": [
       "<IPython.core.display.HTML object>"
      ]
     },
     "metadata": {
      "tags": []
     },
     "output_type": "display_data"
    },
    {
     "name": "stdout",
     "output_type": "stream",
     "text": [
      "Saving train.tsv to train.tsv\n"
     ]
    }
   ],
   "source": [
    "from google.colab import files\n",
    "uploaded = files.upload()"
   ]
  },
  {
   "cell_type": "code",
   "execution_count": null,
   "metadata": {
    "colab": {},
    "colab_type": "code",
    "id": "eCloXlUs4sQc"
   },
   "outputs": [],
   "source": [
    "import io\n",
    "import pandas as pd\n",
    "\n",
    "messages = pd.read_csv(io.BytesIO(uploaded['train.tsv']), delimiter='\\t')"
   ]
  },
  {
   "cell_type": "code",
   "execution_count": 4,
   "metadata": {
    "colab": {},
    "colab_type": "code",
    "id": "KaxSG2MwqoZ-"
   },
   "outputs": [],
   "source": [
    "# for windows jupyter\n",
    "messages = pd.read_csv('train.tsv', delimiter='\\t')"
   ]
  },
  {
   "cell_type": "markdown",
   "metadata": {
    "colab_type": "text",
    "id": "VNip6pGiqcMw"
   },
   "source": [
    "### **Exploratery data analysis (EDA)**"
   ]
  },
  {
   "cell_type": "code",
   "execution_count": 6,
   "metadata": {
    "colab": {
     "base_uri": "https://localhost:8080/",
     "height": 202
    },
    "colab_type": "code",
    "id": "ijkR0UDXo68B",
    "outputId": "008da21c-45a7-41fb-8c54-9bf5bce6dc6a"
   },
   "outputs": [
    {
     "data": {
      "text/html": [
       "<div>\n",
       "<style scoped>\n",
       "    .dataframe tbody tr th:only-of-type {\n",
       "        vertical-align: middle;\n",
       "    }\n",
       "\n",
       "    .dataframe tbody tr th {\n",
       "        vertical-align: top;\n",
       "    }\n",
       "\n",
       "    .dataframe thead th {\n",
       "        text-align: right;\n",
       "    }\n",
       "</style>\n",
       "<table border=\"1\" class=\"dataframe\">\n",
       "  <thead>\n",
       "    <tr style=\"text-align: right;\">\n",
       "      <th></th>\n",
       "      <th>PhraseId</th>\n",
       "      <th>SentenceId</th>\n",
       "      <th>Phrase</th>\n",
       "      <th>Sentiment</th>\n",
       "    </tr>\n",
       "  </thead>\n",
       "  <tbody>\n",
       "    <tr>\n",
       "      <th>0</th>\n",
       "      <td>1</td>\n",
       "      <td>1</td>\n",
       "      <td>A series of escapades demonstrating the adage ...</td>\n",
       "      <td>1</td>\n",
       "    </tr>\n",
       "    <tr>\n",
       "      <th>1</th>\n",
       "      <td>2</td>\n",
       "      <td>1</td>\n",
       "      <td>A series of escapades demonstrating the adage ...</td>\n",
       "      <td>2</td>\n",
       "    </tr>\n",
       "    <tr>\n",
       "      <th>2</th>\n",
       "      <td>3</td>\n",
       "      <td>1</td>\n",
       "      <td>A series</td>\n",
       "      <td>2</td>\n",
       "    </tr>\n",
       "    <tr>\n",
       "      <th>3</th>\n",
       "      <td>4</td>\n",
       "      <td>1</td>\n",
       "      <td>A</td>\n",
       "      <td>2</td>\n",
       "    </tr>\n",
       "    <tr>\n",
       "      <th>4</th>\n",
       "      <td>5</td>\n",
       "      <td>1</td>\n",
       "      <td>series</td>\n",
       "      <td>2</td>\n",
       "    </tr>\n",
       "  </tbody>\n",
       "</table>\n",
       "</div>"
      ],
      "text/plain": [
       "   PhraseId  SentenceId                                             Phrase  \\\n",
       "0         1           1  A series of escapades demonstrating the adage ...   \n",
       "1         2           1  A series of escapades demonstrating the adage ...   \n",
       "2         3           1                                           A series   \n",
       "3         4           1                                                  A   \n",
       "4         5           1                                             series   \n",
       "\n",
       "   Sentiment  \n",
       "0          1  \n",
       "1          2  \n",
       "2          2  \n",
       "3          2  \n",
       "4          2  "
      ]
     },
     "execution_count": 6,
     "metadata": {},
     "output_type": "execute_result"
    }
   ],
   "source": [
    "messages.head(5)"
   ]
  },
  {
   "cell_type": "code",
   "execution_count": 7,
   "metadata": {
    "colab": {},
    "colab_type": "code",
    "id": "F-njJTGVhWPL"
   },
   "outputs": [],
   "source": [
    "messages.drop(columns='PhraseId', inplace=True)"
   ]
  },
  {
   "cell_type": "code",
   "execution_count": 9,
   "metadata": {},
   "outputs": [],
   "source": [
    "messages.drop(columns='SentenceId', inplace=True)"
   ]
  },
  {
   "cell_type": "code",
   "execution_count": 12,
   "metadata": {
    "colab": {
     "base_uri": "https://localhost:8080/",
     "height": 202
    },
    "colab_type": "code",
    "id": "yCbgCujKODKy",
    "outputId": "2cf2c295-89b8-428e-e49f-44ef9cfc3ec5"
   },
   "outputs": [
    {
     "data": {
      "text/html": [
       "<div>\n",
       "<style scoped>\n",
       "    .dataframe tbody tr th:only-of-type {\n",
       "        vertical-align: middle;\n",
       "    }\n",
       "\n",
       "    .dataframe tbody tr th {\n",
       "        vertical-align: top;\n",
       "    }\n",
       "\n",
       "    .dataframe thead th {\n",
       "        text-align: right;\n",
       "    }\n",
       "</style>\n",
       "<table border=\"1\" class=\"dataframe\">\n",
       "  <thead>\n",
       "    <tr style=\"text-align: right;\">\n",
       "      <th></th>\n",
       "      <th>message</th>\n",
       "      <th>label</th>\n",
       "    </tr>\n",
       "  </thead>\n",
       "  <tbody>\n",
       "    <tr>\n",
       "      <th>0</th>\n",
       "      <td>A series of escapades demonstrating the adage ...</td>\n",
       "      <td>1</td>\n",
       "    </tr>\n",
       "    <tr>\n",
       "      <th>1</th>\n",
       "      <td>A series of escapades demonstrating the adage ...</td>\n",
       "      <td>2</td>\n",
       "    </tr>\n",
       "    <tr>\n",
       "      <th>2</th>\n",
       "      <td>A series</td>\n",
       "      <td>2</td>\n",
       "    </tr>\n",
       "    <tr>\n",
       "      <th>3</th>\n",
       "      <td>A</td>\n",
       "      <td>2</td>\n",
       "    </tr>\n",
       "    <tr>\n",
       "      <th>4</th>\n",
       "      <td>series</td>\n",
       "      <td>2</td>\n",
       "    </tr>\n",
       "  </tbody>\n",
       "</table>\n",
       "</div>"
      ],
      "text/plain": [
       "                                             message  label\n",
       "0  A series of escapades demonstrating the adage ...      1\n",
       "1  A series of escapades demonstrating the adage ...      2\n",
       "2                                           A series      2\n",
       "3                                                  A      2\n",
       "4                                             series      2"
      ]
     },
     "execution_count": 12,
     "metadata": {},
     "output_type": "execute_result"
    }
   ],
   "source": [
    "messages.head(5)"
   ]
  },
  {
   "cell_type": "code",
   "execution_count": 11,
   "metadata": {
    "colab": {},
    "colab_type": "code",
    "id": "XPprh3NnN9Vr"
   },
   "outputs": [],
   "source": [
    "messages.rename(columns={'Phrase':'message',\n",
    "                          'Sentiment':'label'}, \n",
    "                 inplace=True)"
   ]
  },
  {
   "cell_type": "code",
   "execution_count": 13,
   "metadata": {
    "colab": {
     "base_uri": "https://localhost:8080/",
     "height": 294
    },
    "colab_type": "code",
    "id": "7-Ato1g_Nqfe",
    "outputId": "8680d897-fcf3-4def-f042-9c45bf6cbfb0"
   },
   "outputs": [
    {
     "data": {
      "text/html": [
       "<div>\n",
       "<style scoped>\n",
       "    .dataframe tbody tr th:only-of-type {\n",
       "        vertical-align: middle;\n",
       "    }\n",
       "\n",
       "    .dataframe tbody tr th {\n",
       "        vertical-align: top;\n",
       "    }\n",
       "\n",
       "    .dataframe thead th {\n",
       "        text-align: right;\n",
       "    }\n",
       "</style>\n",
       "<table border=\"1\" class=\"dataframe\">\n",
       "  <thead>\n",
       "    <tr style=\"text-align: right;\">\n",
       "      <th></th>\n",
       "      <th>label</th>\n",
       "    </tr>\n",
       "  </thead>\n",
       "  <tbody>\n",
       "    <tr>\n",
       "      <th>count</th>\n",
       "      <td>156060.000000</td>\n",
       "    </tr>\n",
       "    <tr>\n",
       "      <th>mean</th>\n",
       "      <td>2.063578</td>\n",
       "    </tr>\n",
       "    <tr>\n",
       "      <th>std</th>\n",
       "      <td>0.893832</td>\n",
       "    </tr>\n",
       "    <tr>\n",
       "      <th>min</th>\n",
       "      <td>0.000000</td>\n",
       "    </tr>\n",
       "    <tr>\n",
       "      <th>25%</th>\n",
       "      <td>2.000000</td>\n",
       "    </tr>\n",
       "    <tr>\n",
       "      <th>50%</th>\n",
       "      <td>2.000000</td>\n",
       "    </tr>\n",
       "    <tr>\n",
       "      <th>75%</th>\n",
       "      <td>3.000000</td>\n",
       "    </tr>\n",
       "    <tr>\n",
       "      <th>max</th>\n",
       "      <td>4.000000</td>\n",
       "    </tr>\n",
       "  </tbody>\n",
       "</table>\n",
       "</div>"
      ],
      "text/plain": [
       "               label\n",
       "count  156060.000000\n",
       "mean        2.063578\n",
       "std         0.893832\n",
       "min         0.000000\n",
       "25%         2.000000\n",
       "50%         2.000000\n",
       "75%         3.000000\n",
       "max         4.000000"
      ]
     },
     "execution_count": 13,
     "metadata": {},
     "output_type": "execute_result"
    }
   ],
   "source": [
    "messages.describe()"
   ]
  },
  {
   "cell_type": "code",
   "execution_count": 14,
   "metadata": {
    "colab": {
     "base_uri": "https://localhost:8080/",
     "height": 263
    },
    "colab_type": "code",
    "id": "nAf9fuoPOg-8",
    "outputId": "e66400a8-45e3-4729-93b8-0c9a3e96265a"
   },
   "outputs": [
    {
     "data": {
      "text/html": [
       "<div>\n",
       "<style scoped>\n",
       "    .dataframe tbody tr th:only-of-type {\n",
       "        vertical-align: middle;\n",
       "    }\n",
       "\n",
       "    .dataframe tbody tr th {\n",
       "        vertical-align: top;\n",
       "    }\n",
       "\n",
       "    .dataframe thead tr th {\n",
       "        text-align: left;\n",
       "    }\n",
       "\n",
       "    .dataframe thead tr:last-of-type th {\n",
       "        text-align: right;\n",
       "    }\n",
       "</style>\n",
       "<table border=\"1\" class=\"dataframe\">\n",
       "  <thead>\n",
       "    <tr>\n",
       "      <th></th>\n",
       "      <th colspan=\"4\" halign=\"left\">message</th>\n",
       "    </tr>\n",
       "    <tr>\n",
       "      <th></th>\n",
       "      <th>count</th>\n",
       "      <th>unique</th>\n",
       "      <th>top</th>\n",
       "      <th>freq</th>\n",
       "    </tr>\n",
       "    <tr>\n",
       "      <th>label</th>\n",
       "      <th></th>\n",
       "      <th></th>\n",
       "      <th></th>\n",
       "      <th></th>\n",
       "    </tr>\n",
       "  </thead>\n",
       "  <tbody>\n",
       "    <tr>\n",
       "      <th>0</th>\n",
       "      <td>7072</td>\n",
       "      <td>7072</td>\n",
       "      <td>ugly to look at and not a Hollywood product</td>\n",
       "      <td>1</td>\n",
       "    </tr>\n",
       "    <tr>\n",
       "      <th>1</th>\n",
       "      <td>27273</td>\n",
       "      <td>27273</td>\n",
       "      <td>Same song ,</td>\n",
       "      <td>1</td>\n",
       "    </tr>\n",
       "    <tr>\n",
       "      <th>2</th>\n",
       "      <td>79582</td>\n",
       "      <td>79582</td>\n",
       "      <td>of his , if you will ,</td>\n",
       "      <td>1</td>\n",
       "    </tr>\n",
       "    <tr>\n",
       "      <th>3</th>\n",
       "      <td>32927</td>\n",
       "      <td>32927</td>\n",
       "      <td>'s incredible the number of stories the Holoca...</td>\n",
       "      <td>1</td>\n",
       "    </tr>\n",
       "    <tr>\n",
       "      <th>4</th>\n",
       "      <td>9206</td>\n",
       "      <td>9206</td>\n",
       "      <td>The cameo-packed , M : I-2-spoofing title sequ...</td>\n",
       "      <td>1</td>\n",
       "    </tr>\n",
       "  </tbody>\n",
       "</table>\n",
       "</div>"
      ],
      "text/plain": [
       "      message                                                               \n",
       "        count unique                                                top freq\n",
       "label                                                                       \n",
       "0        7072   7072        ugly to look at and not a Hollywood product    1\n",
       "1       27273  27273                                        Same song ,    1\n",
       "2       79582  79582                             of his , if you will ,    1\n",
       "3       32927  32927  's incredible the number of stories the Holoca...    1\n",
       "4        9206   9206  The cameo-packed , M : I-2-spoofing title sequ...    1"
      ]
     },
     "execution_count": 14,
     "metadata": {},
     "output_type": "execute_result"
    }
   ],
   "source": [
    "messages.groupby('label').describe()"
   ]
  },
  {
   "cell_type": "markdown",
   "metadata": {
    "colab_type": "text",
    "id": "5oB79CkQopHU"
   },
   "source": [
    "### **Data Visualization**"
   ]
  },
  {
   "cell_type": "code",
   "execution_count": 79,
   "metadata": {
    "colab": {
     "base_uri": "https://localhost:8080/",
     "height": 283
    },
    "colab_type": "code",
    "id": "D2YxXsZFoqQn",
    "outputId": "16e4584f-094d-472c-b841-e47717601b02"
   },
   "outputs": [
    {
     "data": {
      "text/plain": [
       "<matplotlib.axes._subplots.AxesSubplot at 0x7f4d5a7fac88>"
      ]
     },
     "execution_count": 79,
     "metadata": {
      "tags": []
     },
     "output_type": "execute_result"
    },
    {
     "data": {
      "image/png": "[encoded data removed]",
      "text/plain": [
       "<Figure size 432x288 with 1 Axes>"
      ]
     },
     "metadata": {
      "tags": []
     },
     "output_type": "display_data"
    }
   ],
   "source": [
    "messages['message'].apply(len).plot(bins=50, kind='hist')"
   ]
  },
  {
   "cell_type": "code",
   "execution_count": 80,
   "metadata": {
    "colab": {
     "base_uri": "https://localhost:8080/",
     "height": 173
    },
    "colab_type": "code",
    "id": "7ISv5Mf6pSQQ",
    "outputId": "d5624952-532b-4a12-c6ed-bfe20a874688"
   },
   "outputs": [
    {
     "data": {
      "text/plain": [
       "count    156060.000000\n",
       "mean         40.217224\n",
       "std          38.154130\n",
       "min           1.000000\n",
       "25%          14.000000\n",
       "50%          26.000000\n",
       "75%          53.000000\n",
       "max         283.000000\n",
       "Name: message, dtype: float64"
      ]
     },
     "execution_count": 80,
     "metadata": {
      "tags": []
     },
     "output_type": "execute_result"
    }
   ],
   "source": [
    "messages['message'].apply(len).describe()"
   ]
  },
  {
   "cell_type": "code",
   "execution_count": 0,
   "metadata": {
    "colab": {},
    "colab_type": "code",
    "id": "mW-1NdM3pVND"
   },
   "outputs": [],
   "source": [
    "messages['length'] = messages['message'].apply(len)"
   ]
  },
  {
   "cell_type": "code",
   "execution_count": 87,
   "metadata": {
    "colab": {
     "base_uri": "https://localhost:8080/",
     "height": 411
    },
    "colab_type": "code",
    "id": "F12u9k9sqIms",
    "outputId": "1fe1807e-711b-46f3-92a3-8cf4feeddc2f"
   },
   "outputs": [
    {
     "data": {
      "text/plain": [
       "array([[<matplotlib.axes._subplots.AxesSubplot object at 0x7f4db2453748>,\n",
       "        <matplotlib.axes._subplots.AxesSubplot object at 0x7f4db513f6a0>],\n",
       "       [<matplotlib.axes._subplots.AxesSubplot object at 0x7f4db23560b8>,\n",
       "        <matplotlib.axes._subplots.AxesSubplot object at 0x7f4db55c4668>],\n",
       "       [<matplotlib.axes._subplots.AxesSubplot object at 0x7f4db20b2c18>,\n",
       "        <matplotlib.axes._subplots.AxesSubplot object at 0x7f4db204c208>]],\n",
       "      dtype=object)"
      ]
     },
     "execution_count": 87,
     "metadata": {
      "tags": []
     },
     "output_type": "execute_result"
    },
    {
     "data": {
      "image/png": "[encoded data removed]",
      "text/plain": [
       "<Figure size 864x288 with 6 Axes>"
      ]
     },
     "metadata": {
      "tags": []
     },
     "output_type": "display_data"
    }
   ],
   "source": [
    "messages.hist(column='length', by='label', bins=50,figsize=(12,4))"
   ]
  },
  {
   "cell_type": "code",
   "execution_count": 0,
   "metadata": {
    "colab": {},
    "colab_type": "code",
    "id": "3PszYXjTqOg3"
   },
   "outputs": [],
   "source": []
  },
  {
   "cell_type": "markdown",
   "metadata": {
    "colab_type": "text",
    "id": "ShWP3DsMni14"
   },
   "source": [
    "### **Text Pre-Processing**"
   ]
  },
  {
   "cell_type": "code",
   "execution_count": 15,
   "metadata": {
    "colab": {},
    "colab_type": "code",
    "id": "j7HD68ljOjv2"
   },
   "outputs": [],
   "source": [
    "import re\n",
    "\n",
    "REPLACE_NO_SPACE = re.compile(\"(\\.)|(\\;)|(\\:)|(\\!)|(\\?)|(\\,)|(\\\")|(\\()|(\\))|(\\[)|(\\])|(\\d+)\")\n",
    "REPLACE_WITH_SPACE = re.compile(\"(<br\\s*/><br\\s*/>)|(\\-)|(\\/)\")\n",
    "NO_SPACE = \"\"\n",
    "SPACE = \" \"\n",
    "\n",
    "def preprocess_reviews(reviews):\n",
    "    \n",
    "    reviews = [REPLACE_NO_SPACE.sub(NO_SPACE, line.lower()) for line in reviews]\n",
    "    reviews = [REPLACE_WITH_SPACE.sub(SPACE, line) for line in reviews]\n",
    "    \n",
    "    return reviews\n",
    "\n",
    "reviews_train_clean = preprocess_reviews(messages['message'])\n",
    "reviews_test_clean = preprocess_reviews(messages['message'])"
   ]
  },
  {
   "cell_type": "code",
   "execution_count": 16,
   "metadata": {
    "colab": {},
    "colab_type": "code",
    "id": "REjxBvEPOjtC"
   },
   "outputs": [
    {
     "data": {
      "text/plain": [
       "['a series of escapades demonstrating the adage that what is good for the goose is also good for the gander  some of which occasionally amuses but none of which amounts to much of a story ',\n",
       " 'a series of escapades demonstrating the adage that what is good for the goose',\n",
       " 'a series',\n",
       " 'a',\n",
       " 'series',\n",
       " 'of escapades demonstrating the adage that what is good for the goose',\n",
       " 'of',\n",
       " 'escapades demonstrating the adage that what is good for the goose',\n",
       " 'escapades',\n",
       " 'demonstrating the adage that what is good for the goose',\n",
       " 'demonstrating the adage',\n",
       " 'demonstrating',\n",
       " 'the adage',\n",
       " 'the',\n",
       " 'adage',\n",
       " 'that what is good for the goose',\n",
       " 'that',\n",
       " 'what is good for the goose',\n",
       " 'what',\n",
       " 'is good for the goose',\n",
       " 'is',\n",
       " 'good for the goose',\n",
       " 'good',\n",
       " 'for the goose',\n",
       " 'for',\n",
       " 'the goose',\n",
       " 'goose',\n",
       " 'is also good for the gander  some of which occasionally amuses but none of which amounts to much of a story ',\n",
       " 'is also good for the gander  some of which occasionally amuses but none of which amounts to much of a story',\n",
       " 'is also',\n",
       " 'also',\n",
       " 'good for the gander  some of which occasionally amuses but none of which amounts to much of a story',\n",
       " 'for the gander  some of which occasionally amuses but none of which amounts to much of a story',\n",
       " 'the gander  some of which occasionally amuses but none of which amounts to much of a story',\n",
       " 'the gander ',\n",
       " 'the gander',\n",
       " 'gander',\n",
       " '',\n",
       " 'some of which occasionally amuses but none of which amounts to much of a story',\n",
       " 'some of which',\n",
       " 'some',\n",
       " 'of which',\n",
       " 'which',\n",
       " 'occasionally amuses but none of which amounts to much of a story',\n",
       " 'occasionally',\n",
       " 'amuses but none of which amounts to much of a story',\n",
       " 'amuses',\n",
       " 'but none of which amounts to much of a story',\n",
       " 'but',\n",
       " 'none of which amounts to much of a story',\n",
       " 'none',\n",
       " 'of which amounts to much of a story',\n",
       " 'which amounts to much of a story',\n",
       " 'amounts to much of a story',\n",
       " 'amounts',\n",
       " 'to much of a story',\n",
       " 'to',\n",
       " 'much of a story',\n",
       " 'much',\n",
       " 'of a story',\n",
       " 'a story',\n",
       " 'story',\n",
       " '',\n",
       " 'this quiet  introspective and entertaining independent is worth seeking ',\n",
       " 'this quiet  introspective and entertaining independent',\n",
       " 'this',\n",
       " 'quiet  introspective and entertaining independent',\n",
       " 'quiet  introspective and entertaining',\n",
       " 'quiet',\n",
       " ' introspective and entertaining',\n",
       " 'introspective and entertaining',\n",
       " 'introspective and',\n",
       " 'introspective',\n",
       " 'and',\n",
       " 'entertaining',\n",
       " 'independent',\n",
       " 'is worth seeking ',\n",
       " 'is worth seeking',\n",
       " 'is worth',\n",
       " 'worth',\n",
       " 'seeking',\n",
       " \"even fans of ismail merchant 's work  i suspect  would have a hard time sitting through this one \",\n",
       " \"even fans of ismail merchant 's work\",\n",
       " 'even fans',\n",
       " 'even',\n",
       " 'fans',\n",
       " \"of ismail merchant 's work\",\n",
       " \"ismail merchant 's work\",\n",
       " \"ismail merchant 's\",\n",
       " 'ismail',\n",
       " \"merchant 's\",\n",
       " 'merchant',\n",
       " \"'s\",\n",
       " 'work',\n",
       " ' i suspect  would have a hard time sitting through this one ',\n",
       " ' i suspect ',\n",
       " 'i suspect ',\n",
       " 'i suspect',\n",
       " 'i',\n",
       " 'suspect',\n",
       " 'would have a hard time sitting through this one ',\n",
       " 'would have a hard time sitting through this one',\n",
       " 'would',\n",
       " 'have a hard time sitting through this one',\n",
       " 'have',\n",
       " 'a hard time sitting through this one',\n",
       " 'a hard time',\n",
       " 'hard time',\n",
       " 'hard',\n",
       " 'time',\n",
       " 'sitting through this one',\n",
       " 'sitting',\n",
       " 'through this one',\n",
       " 'through',\n",
       " 'this one',\n",
       " 'one',\n",
       " 'a positively thrilling combination of ethnography and all the intrigue  betrayal  deceit and murder of a shakespearean tragedy or a juicy soap opera ',\n",
       " 'a positively thrilling combination of ethnography and all the intrigue  betrayal  deceit and murder of a shakespearean tragedy or a juicy soap opera',\n",
       " 'a positively thrilling combination of ethnography and all the intrigue  betrayal  deceit and murder',\n",
       " 'a positively thrilling combination',\n",
       " 'positively thrilling combination',\n",
       " 'positively',\n",
       " 'thrilling combination',\n",
       " 'thrilling',\n",
       " 'combination',\n",
       " 'of ethnography and all the intrigue  betrayal  deceit and murder',\n",
       " 'ethnography and all the intrigue  betrayal  deceit and murder',\n",
       " 'ethnography and',\n",
       " 'ethnography',\n",
       " 'all the intrigue  betrayal  deceit and murder',\n",
       " 'all',\n",
       " 'the intrigue  betrayal  deceit and murder',\n",
       " 'intrigue  betrayal  deceit and murder',\n",
       " 'intrigue',\n",
       " ' betrayal  deceit and murder',\n",
       " 'betrayal  deceit and murder',\n",
       " 'betrayal',\n",
       " ' deceit and murder',\n",
       " 'deceit and murder',\n",
       " 'deceit and',\n",
       " 'deceit',\n",
       " 'murder',\n",
       " 'of a shakespearean tragedy or a juicy soap opera',\n",
       " 'a shakespearean tragedy or a juicy soap opera',\n",
       " 'a shakespearean tragedy or',\n",
       " 'a shakespearean tragedy',\n",
       " 'shakespearean tragedy',\n",
       " 'shakespearean',\n",
       " 'tragedy',\n",
       " 'or',\n",
       " 'a juicy soap opera',\n",
       " 'juicy soap opera',\n",
       " 'juicy',\n",
       " 'soap opera',\n",
       " 'soap',\n",
       " 'opera',\n",
       " 'aggressive self glorification and a manipulative whitewash ',\n",
       " 'aggressive self glorification and a manipulative whitewash',\n",
       " 'aggressive',\n",
       " 'self glorification and a manipulative whitewash',\n",
       " 'self glorification and',\n",
       " 'self glorification',\n",
       " 'a manipulative whitewash',\n",
       " 'manipulative whitewash',\n",
       " 'manipulative',\n",
       " 'whitewash',\n",
       " 'a comedy drama of nearly epic proportions rooted in a sincere performance by the title character undergoing midlife crisis ',\n",
       " 'a comedy drama of nearly epic proportions',\n",
       " 'a comedy drama',\n",
       " 'comedy drama',\n",
       " 'of nearly epic proportions',\n",
       " 'nearly epic proportions',\n",
       " 'nearly epic',\n",
       " 'nearly',\n",
       " 'epic',\n",
       " 'proportions',\n",
       " 'rooted in a sincere performance by the title character undergoing midlife crisis ',\n",
       " 'rooted in a sincere performance by the title character undergoing midlife crisis',\n",
       " 'rooted in a sincere performance',\n",
       " 'rooted',\n",
       " 'in a sincere performance',\n",
       " 'in',\n",
       " 'a sincere performance',\n",
       " 'sincere performance',\n",
       " 'sincere',\n",
       " 'performance',\n",
       " 'by the title character undergoing midlife crisis',\n",
       " 'by',\n",
       " 'the title character undergoing midlife crisis',\n",
       " 'the title character',\n",
       " 'title character',\n",
       " 'title',\n",
       " 'character',\n",
       " 'undergoing midlife crisis',\n",
       " 'undergoing',\n",
       " 'midlife crisis',\n",
       " 'midlife',\n",
       " 'crisis',\n",
       " 'narratively  trouble every day is a plodding mess ',\n",
       " 'narratively',\n",
       " ' trouble every day is a plodding mess ',\n",
       " 'trouble every day is a plodding mess ',\n",
       " 'trouble every day',\n",
       " 'trouble',\n",
       " 'every day',\n",
       " 'every',\n",
       " 'day',\n",
       " 'is a plodding mess ',\n",
       " 'is a plodding mess',\n",
       " 'a plodding mess',\n",
       " 'plodding mess',\n",
       " 'plodding',\n",
       " 'mess',\n",
       " \"the importance of being earnest  so thick with wit it plays like a reading from bartlett 's familiar quotations\",\n",
       " 'the importance',\n",
       " 'importance',\n",
       " \"of being earnest  so thick with wit it plays like a reading from bartlett 's familiar quotations\",\n",
       " \"being earnest  so thick with wit it plays like a reading from bartlett 's familiar quotations\",\n",
       " 'being',\n",
       " \"earnest  so thick with wit it plays like a reading from bartlett 's familiar quotations\",\n",
       " 'earnest ',\n",
       " 'earnest',\n",
       " \"so thick with wit it plays like a reading from bartlett 's familiar quotations\",\n",
       " 'so',\n",
       " \"thick with wit it plays like a reading from bartlett 's familiar quotations\",\n",
       " 'thick',\n",
       " \"with wit it plays like a reading from bartlett 's familiar quotations\",\n",
       " 'with',\n",
       " \"wit it plays like a reading from bartlett 's familiar quotations\",\n",
       " 'wit',\n",
       " \"it plays like a reading from bartlett 's familiar quotations\",\n",
       " 'it',\n",
       " \"plays like a reading from bartlett 's familiar quotations\",\n",
       " 'plays',\n",
       " \"like a reading from bartlett 's familiar quotations\",\n",
       " 'like',\n",
       " \"a reading from bartlett 's familiar quotations\",\n",
       " 'a reading',\n",
       " 'reading',\n",
       " \"from bartlett 's familiar quotations\",\n",
       " 'from',\n",
       " \"bartlett 's familiar quotations\",\n",
       " \"bartlett 's\",\n",
       " 'bartlett',\n",
       " 'familiar quotations',\n",
       " 'familiar',\n",
       " 'quotations',\n",
       " \"but it does n't leave you with much \",\n",
       " \"it does n't leave you with much \",\n",
       " \"does n't leave you with much \",\n",
       " \"does n't leave you with much\",\n",
       " \"does n't\",\n",
       " 'does',\n",
       " \"n't\",\n",
       " 'leave you with much',\n",
       " 'leave you',\n",
       " 'leave',\n",
       " 'you',\n",
       " 'with much',\n",
       " 'you could hate it for the same reason ',\n",
       " 'could hate it for the same reason ',\n",
       " 'could hate it for the same reason',\n",
       " 'could',\n",
       " 'hate it for the same reason',\n",
       " 'hate it',\n",
       " 'hate',\n",
       " 'for the same reason',\n",
       " 'the same reason',\n",
       " 'same reason',\n",
       " 'same',\n",
       " 'reason',\n",
       " \"there 's little to recommend snow dogs  unless one considers cliched dialogue and perverse escapism a source of high hilarity \",\n",
       " 'there',\n",
       " \"'s little to recommend snow dogs  unless one considers cliched dialogue and perverse escapism a source of high hilarity \",\n",
       " \"'s little to recommend snow dogs  unless one considers cliched dialogue and perverse escapism a source of high hilarity\",\n",
       " \"'s little to recommend snow dogs \",\n",
       " \"'s little to recommend snow dogs\",\n",
       " 'little to recommend snow dogs',\n",
       " 'little',\n",
       " 'to recommend snow dogs',\n",
       " 'recommend snow dogs',\n",
       " 'recommend',\n",
       " 'snow dogs',\n",
       " 'snow',\n",
       " 'dogs',\n",
       " 'unless one considers cliched dialogue and perverse escapism a source of high hilarity',\n",
       " 'unless',\n",
       " 'one considers cliched dialogue and perverse escapism a source of high hilarity',\n",
       " 'considers cliched dialogue and perverse escapism a source of high hilarity',\n",
       " 'considers',\n",
       " 'cliched dialogue and perverse escapism a source of high hilarity',\n",
       " 'cliched dialogue and perverse escapism',\n",
       " 'cliched dialogue and',\n",
       " 'cliched dialogue',\n",
       " 'cliched',\n",
       " 'dialogue',\n",
       " 'perverse escapism',\n",
       " 'perverse',\n",
       " 'escapism',\n",
       " 'a source of high hilarity',\n",
       " 'a source',\n",
       " 'source',\n",
       " 'of high hilarity',\n",
       " 'high hilarity',\n",
       " 'high',\n",
       " 'hilarity',\n",
       " \"kung pow is oedekerk 's realization of his childhood dream to be in a martial arts flick  and proves that sometimes the dreams of youth should remain just that \",\n",
       " 'kung pow',\n",
       " 'kung',\n",
       " 'pow',\n",
       " \"is oedekerk 's realization of his childhood dream to be in a martial arts flick  and proves that sometimes the dreams of youth should remain just that \",\n",
       " \"is oedekerk 's realization of his childhood dream to be in a martial arts flick  and proves that sometimes the dreams of youth should remain just that\",\n",
       " \"is oedekerk 's realization of his childhood dream to be in a martial arts flick  and\",\n",
       " \"is oedekerk 's realization of his childhood dream to be in a martial arts flick \",\n",
       " \"is oedekerk 's realization of his childhood dream to be in a martial arts flick\",\n",
       " \"oedekerk 's realization of his childhood dream to be in a martial arts flick\",\n",
       " \"oedekerk 's realization of his childhood dream\",\n",
       " \"oedekerk 's realization\",\n",
       " \"oedekerk 's\",\n",
       " 'oedekerk',\n",
       " 'realization',\n",
       " 'of his childhood dream',\n",
       " 'his childhood dream',\n",
       " 'his',\n",
       " 'childhood dream',\n",
       " 'childhood',\n",
       " 'dream',\n",
       " 'to be in a martial arts flick',\n",
       " 'be in a martial arts flick',\n",
       " 'be',\n",
       " 'in a martial arts flick',\n",
       " 'a martial arts flick',\n",
       " 'martial arts flick',\n",
       " 'martial arts',\n",
       " 'flick',\n",
       " 'proves that sometimes the dreams of youth should remain just that',\n",
       " 'proves',\n",
       " 'that sometimes the dreams of youth should remain just that',\n",
       " 'sometimes the dreams of youth should remain just that',\n",
       " 'sometimes',\n",
       " 'the dreams of youth should remain just that',\n",
       " 'the dreams of youth',\n",
       " 'the dreams',\n",
       " 'dreams',\n",
       " 'of youth',\n",
       " 'youth',\n",
       " 'should remain just that',\n",
       " 'should',\n",
       " 'remain just that',\n",
       " 'remain',\n",
       " 'just that',\n",
       " 'just',\n",
       " 'the performances are an absolute joy ',\n",
       " 'the performances',\n",
       " 'performances',\n",
       " 'are an absolute joy ',\n",
       " 'are an absolute joy',\n",
       " 'are',\n",
       " 'an absolute joy',\n",
       " 'an',\n",
       " 'absolute joy',\n",
       " 'absolute',\n",
       " 'joy',\n",
       " 'fresnadillo has something serious to say about the ways in which extravagant chance can distort our perspective and throw us off the path of good sense ',\n",
       " 'fresnadillo',\n",
       " 'has something serious to say about the ways in which extravagant chance can distort our perspective and throw us off the path of good sense ',\n",
       " 'has something serious to say about the ways in which extravagant chance can distort our perspective and throw us off the path of good sense',\n",
       " 'has',\n",
       " 'something serious to say about the ways in which extravagant chance can distort our perspective and throw us off the path of good sense',\n",
       " 'something',\n",
       " 'serious to say about the ways in which extravagant chance can distort our perspective and throw us off the path of good sense',\n",
       " 'serious',\n",
       " 'to say about the ways in which extravagant chance can distort our perspective and throw us off the path of good sense',\n",
       " 'say about the ways in which extravagant chance can distort our perspective and throw us off the path of good sense',\n",
       " 'say',\n",
       " 'about the ways in which extravagant chance can distort our perspective and throw us off the path of good sense',\n",
       " 'about',\n",
       " 'the ways in which extravagant chance can distort our perspective and throw us off the path of good sense',\n",
       " 'the ways',\n",
       " 'ways',\n",
       " 'in which extravagant chance can distort our perspective and throw us off the path of good sense',\n",
       " 'in which',\n",
       " 'extravagant chance can distort our perspective and throw us off the path of good sense',\n",
       " 'extravagant chance',\n",
       " 'extravagant',\n",
       " 'chance',\n",
       " 'can distort our perspective and throw us off the path of good sense',\n",
       " 'can',\n",
       " 'distort our perspective and throw us off the path of good sense',\n",
       " 'distort our perspective and',\n",
       " 'distort our perspective',\n",
       " 'distort',\n",
       " 'our perspective',\n",
       " 'our',\n",
       " 'perspective',\n",
       " 'throw us off the path of good sense',\n",
       " 'throw us',\n",
       " 'throw',\n",
       " 'us',\n",
       " 'off the path of good sense',\n",
       " 'off',\n",
       " 'the path of good sense',\n",
       " 'the path',\n",
       " 'path',\n",
       " 'of good sense',\n",
       " 'good sense',\n",
       " 'sense',\n",
       " 'i still like moonlight mile  better judgment be damned ',\n",
       " 'still like moonlight mile  better judgment be damned ',\n",
       " 'still',\n",
       " 'like moonlight mile  better judgment be damned ',\n",
       " 'like moonlight mile  better judgment be damned',\n",
       " 'moonlight mile  better judgment be damned',\n",
       " 'moonlight mile  better judgment',\n",
       " 'moonlight',\n",
       " 'mile  better judgment',\n",
       " 'mile',\n",
       " ' better judgment',\n",
       " 'better judgment',\n",
       " 'better',\n",
       " 'judgment',\n",
       " 'be damned',\n",
       " 'damned',\n",
       " 'a welcome relief from baseball movies that try too hard to be mythic  this one is a sweet and modest and ultimately winning story ',\n",
       " 'a welcome relief from baseball movies that try too hard to be mythic',\n",
       " 'a welcome relief',\n",
       " 'welcome relief',\n",
       " 'welcome',\n",
       " 'relief',\n",
       " 'from baseball movies that try too hard to be mythic',\n",
       " 'baseball movies that try too hard to be mythic',\n",
       " 'baseball movies',\n",
       " 'baseball',\n",
       " 'movies',\n",
       " 'that try too hard to be mythic',\n",
       " 'try too hard to be mythic',\n",
       " 'try',\n",
       " 'too hard to be mythic',\n",
       " 'too',\n",
       " 'hard to be mythic',\n",
       " 'to be mythic',\n",
       " 'be mythic',\n",
       " 'mythic',\n",
       " ' this one is a sweet and modest and ultimately winning story ',\n",
       " 'this one is a sweet and modest and ultimately winning story ',\n",
       " 'is a sweet and modest and ultimately winning story ',\n",
       " 'is a sweet and modest and ultimately winning story',\n",
       " 'a sweet and modest and ultimately winning story',\n",
       " 'a sweet and modest and',\n",
       " 'a sweet and modest',\n",
       " 'sweet and modest',\n",
       " 'sweet and',\n",
       " 'sweet',\n",
       " 'modest',\n",
       " 'ultimately winning story',\n",
       " 'ultimately',\n",
       " 'winning story',\n",
       " 'winning',\n",
       " 'a bilingual charmer  just like the woman who inspired it',\n",
       " 'a bilingual charmer ',\n",
       " 'a bilingual charmer',\n",
       " 'bilingual charmer',\n",
       " 'bilingual',\n",
       " 'charmer',\n",
       " 'just like the woman who inspired it',\n",
       " 'like the woman who inspired it',\n",
       " 'the woman who inspired it',\n",
       " 'the woman',\n",
       " 'woman',\n",
       " 'who inspired it',\n",
       " 'who',\n",
       " 'inspired it',\n",
       " 'inspired',\n",
       " \"like a less dizzily gorgeous companion to mr wong 's in the mood for love    very much a hong kong movie despite its mainland setting \",\n",
       " 'like a less dizzily gorgeous companion to mr',\n",
       " 'a less dizzily gorgeous companion to mr',\n",
       " 'a less dizzily gorgeous companion',\n",
       " 'less dizzily gorgeous companion',\n",
       " 'less dizzily gorgeous',\n",
       " 'less',\n",
       " 'dizzily gorgeous',\n",
       " 'dizzily',\n",
       " 'gorgeous',\n",
       " 'companion',\n",
       " 'to mr',\n",
       " 'mr',\n",
       " \"wong 's in the mood for love    very much a hong kong movie despite its mainland setting \",\n",
       " 'wong',\n",
       " \"'s in the mood for love    very much a hong kong movie despite its mainland setting \",\n",
       " \"'s in the mood for love    very much a hong kong movie despite its mainland setting\",\n",
       " \"'s in the mood for love    very much a hong kong movie\",\n",
       " 'in the mood for love    very much a hong kong movie',\n",
       " 'the mood for love    very much a hong kong movie',\n",
       " 'the mood',\n",
       " 'mood',\n",
       " 'for love    very much a hong kong movie',\n",
       " 'love    very much a hong kong movie',\n",
       " 'love    very much',\n",
       " 'love   ',\n",
       " 'love',\n",
       " '  ',\n",
       " 'very much',\n",
       " 'very',\n",
       " 'a hong kong movie',\n",
       " 'hong kong movie',\n",
       " 'hong',\n",
       " 'kong movie',\n",
       " 'kong',\n",
       " 'movie',\n",
       " 'despite its mainland setting',\n",
       " 'despite',\n",
       " 'its mainland setting',\n",
       " 'its',\n",
       " 'mainland setting',\n",
       " 'mainland',\n",
       " 'setting',\n",
       " 'as inept as big screen remakes of the avengers and the wild wild west ',\n",
       " 'as inept as big screen remakes of the avengers and the wild wild west',\n",
       " 'as inept',\n",
       " 'as',\n",
       " 'inept',\n",
       " 'as big screen remakes of the avengers and the wild wild west',\n",
       " 'big screen remakes of the avengers and the wild wild west',\n",
       " 'big screen remakes',\n",
       " 'big screen',\n",
       " 'remakes',\n",
       " 'of the avengers and the wild wild west',\n",
       " 'the avengers and the wild wild west',\n",
       " 'the avengers and',\n",
       " 'the avengers',\n",
       " 'avengers',\n",
       " 'the wild wild west',\n",
       " 'wild wild west',\n",
       " 'wild',\n",
       " 'wild west',\n",
       " 'west',\n",
       " \"it 's everything you 'd expect    but nothing more \",\n",
       " \"'s everything you 'd expect    but nothing more \",\n",
       " \"'s everything you 'd expect    but nothing more\",\n",
       " \"everything you 'd expect    but nothing more\",\n",
       " 'everything',\n",
       " \"you 'd expect    but nothing more\",\n",
       " \"'d expect    but nothing more\",\n",
       " \"'d\",\n",
       " 'expect    but nothing more',\n",
       " 'expect    but nothing',\n",
       " 'expect   ',\n",
       " 'expect',\n",
       " 'but nothing',\n",
       " 'nothing',\n",
       " 'more',\n",
       " 'best indie of the year  so far ',\n",
       " 'best',\n",
       " 'indie of the year  so far ',\n",
       " 'indie of the year  so far',\n",
       " 'indie of the year ',\n",
       " 'indie of the year',\n",
       " 'indie',\n",
       " 'of the year',\n",
       " 'the year',\n",
       " 'year',\n",
       " 'so far',\n",
       " 'far',\n",
       " \"hatfield and hicks make the oddest of couples  and in this sense the movie becomes a study of the gambles of the publishing world  offering a case study that exists apart from all the movie 's political ramifications \",\n",
       " \"hatfield and hicks make the oddest of couples  and in this sense the movie becomes a study of the gambles of the publishing world  offering a case study that exists apart from all the movie 's political ramifications\",\n",
       " 'hatfield and hicks make the oddest of couples  and',\n",
       " 'hatfield and hicks make the oddest of couples ',\n",
       " 'hatfield and hicks make the oddest of couples',\n",
       " 'hatfield and hicks',\n",
       " 'hatfield and',\n",
       " 'hatfield',\n",
       " 'hicks',\n",
       " 'make the oddest of couples',\n",
       " 'make',\n",
       " 'the oddest of couples',\n",
       " 'the oddest',\n",
       " 'oddest',\n",
       " 'of couples',\n",
       " 'couples',\n",
       " \"in this sense the movie becomes a study of the gambles of the publishing world  offering a case study that exists apart from all the movie 's political ramifications\",\n",
       " 'in this sense',\n",
       " 'this sense',\n",
       " \"the movie becomes a study of the gambles of the publishing world  offering a case study that exists apart from all the movie 's political ramifications\",\n",
       " 'the movie',\n",
       " \"becomes a study of the gambles of the publishing world  offering a case study that exists apart from all the movie 's political ramifications\",\n",
       " 'becomes a study of the gambles of the publishing world ',\n",
       " 'becomes a study of the gambles of the publishing world',\n",
       " 'becomes',\n",
       " 'a study of the gambles of the publishing world',\n",
       " 'a study',\n",
       " 'study',\n",
       " 'of the gambles of the publishing world',\n",
       " 'the gambles of the publishing world',\n",
       " 'the gambles',\n",
       " 'gambles',\n",
       " 'of the publishing world',\n",
       " 'the publishing world',\n",
       " 'publishing world',\n",
       " 'publishing',\n",
       " 'world',\n",
       " \"offering a case study that exists apart from all the movie 's political ramifications\",\n",
       " 'offering',\n",
       " \"a case study that exists apart from all the movie 's political ramifications\",\n",
       " 'a case study',\n",
       " 'case study',\n",
       " 'case',\n",
       " \"that exists apart from all the movie 's political ramifications\",\n",
       " \"exists apart from all the movie 's political ramifications\",\n",
       " 'exists apart',\n",
       " 'exists',\n",
       " 'apart',\n",
       " \"from all the movie 's political ramifications\",\n",
       " \"all the movie 's political ramifications\",\n",
       " \"the movie 's political ramifications\",\n",
       " \"the movie 's\",\n",
       " \"movie 's\",\n",
       " 'political ramifications',\n",
       " 'political',\n",
       " 'ramifications',\n",
       " \"it 's like going to a house party and watching the host defend himself against a frothing ex girlfriend \",\n",
       " \"'s like going to a house party and watching the host defend himself against a frothing ex girlfriend \",\n",
       " \"'s like going to a house party and watching the host defend himself against a frothing ex girlfriend\",\n",
       " 'like going to a house party and watching the host defend himself against a frothing ex girlfriend',\n",
       " 'going to a house party and watching the host defend himself against a frothing ex girlfriend',\n",
       " 'going to a house party and',\n",
       " 'going to a house party',\n",
       " 'going',\n",
       " 'to a house party',\n",
       " 'a house party',\n",
       " 'house party',\n",
       " 'house',\n",
       " 'party',\n",
       " 'watching the host defend himself against a frothing ex girlfriend',\n",
       " 'watching',\n",
       " 'the host defend himself against a frothing ex girlfriend',\n",
       " 'the host',\n",
       " 'host',\n",
       " 'defend himself against a frothing ex girlfriend',\n",
       " 'defend himself',\n",
       " 'defend',\n",
       " 'himself',\n",
       " 'against a frothing ex girlfriend',\n",
       " 'against',\n",
       " 'a frothing ex girlfriend',\n",
       " 'frothing ex girlfriend',\n",
       " 'frothing',\n",
       " 'ex girlfriend',\n",
       " \"that the chuck norris `` grenade gag '' occurs about  times during windtalkers is a good indication of how serious minded the film is \",\n",
       " \"that the chuck norris `` grenade gag ''\",\n",
       " \"the chuck norris `` grenade gag ''\",\n",
       " \"chuck norris `` grenade gag ''\",\n",
       " 'chuck',\n",
       " \"norris `` grenade gag ''\",\n",
       " 'norris',\n",
       " \"`` grenade gag ''\",\n",
       " '``',\n",
       " \"grenade gag ''\",\n",
       " 'grenade',\n",
       " \"gag ''\",\n",
       " 'gag',\n",
       " \"''\",\n",
       " 'occurs about  times during windtalkers is a good indication of how serious minded the film is ',\n",
       " 'occurs about  times during windtalkers is a good indication of how serious minded the film is',\n",
       " 'occurs',\n",
       " 'about  times during windtalkers is a good indication of how serious minded the film is',\n",
       " 'about  times during windtalkers',\n",
       " 'about  times',\n",
       " ' times',\n",
       " '',\n",
       " 'times',\n",
       " 'during windtalkers',\n",
       " 'during',\n",
       " 'windtalkers',\n",
       " 'is a good indication of how serious minded the film is',\n",
       " 'a good indication of how serious minded the film is',\n",
       " 'a good indication',\n",
       " 'good indication',\n",
       " 'indication',\n",
       " 'of how serious minded the film is',\n",
       " 'how serious minded the film is',\n",
       " 'how',\n",
       " 'serious minded the film is',\n",
       " 'serious minded the film',\n",
       " 'serious minded',\n",
       " 'the film',\n",
       " 'film',\n",
       " 'the plot is romantic comedy boilerplate from start to finish ',\n",
       " 'the plot',\n",
       " 'plot',\n",
       " 'is romantic comedy boilerplate from start to finish ',\n",
       " 'is romantic comedy boilerplate from start to finish',\n",
       " 'romantic comedy boilerplate from start to finish',\n",
       " 'romantic comedy boilerplate from start',\n",
       " 'romantic comedy boilerplate',\n",
       " 'romantic',\n",
       " 'comedy boilerplate',\n",
       " 'comedy',\n",
       " 'boilerplate',\n",
       " 'from start',\n",
       " 'start',\n",
       " 'to finish',\n",
       " 'finish',\n",
       " 'it arrives with an impeccable pedigree  mongrel pep  and almost indecipherable plot complications ',\n",
       " 'arrives with an impeccable pedigree  mongrel pep  and almost indecipherable plot complications ',\n",
       " 'arrives with an impeccable pedigree  mongrel pep  and almost indecipherable plot complications',\n",
       " 'arrives',\n",
       " 'with an impeccable pedigree  mongrel pep  and almost indecipherable plot complications',\n",
       " 'an impeccable pedigree  mongrel pep  and almost indecipherable plot complications',\n",
       " 'an impeccable pedigree  mongrel pep  and almost',\n",
       " 'an impeccable pedigree  mongrel pep  and',\n",
       " 'an impeccable pedigree  mongrel pep ',\n",
       " 'an impeccable pedigree  mongrel pep',\n",
       " 'impeccable pedigree  mongrel pep',\n",
       " 'impeccable',\n",
       " 'pedigree  mongrel pep',\n",
       " 'pedigree',\n",
       " ' mongrel pep',\n",
       " 'mongrel pep',\n",
       " 'mongrel',\n",
       " 'pep',\n",
       " 'almost',\n",
       " 'indecipherable plot complications',\n",
       " 'indecipherable',\n",
       " 'plot complications',\n",
       " 'complications',\n",
       " 'a film that clearly means to preach exclusively to the converted ',\n",
       " 'a film that clearly means to',\n",
       " 'a film',\n",
       " 'that clearly means to',\n",
       " 'clearly means to',\n",
       " 'clearly',\n",
       " 'means to',\n",
       " 'means',\n",
       " 'preach exclusively to the converted ',\n",
       " 'preach exclusively to the converted',\n",
       " 'preach exclusively',\n",
       " 'preach',\n",
       " 'exclusively',\n",
       " 'to the converted',\n",
       " 'the converted',\n",
       " 'converted',\n",
       " \"while the importance of being earnest offers opportunities for occasional smiles and chuckles  it does n't give us a reason to be in the theater beyond wilde 's wit and the actors ' performances \",\n",
       " 'while the importance of being earnest offers opportunities for occasional smiles and chuckles',\n",
       " 'while',\n",
       " 'the importance of being earnest offers opportunities for occasional smiles and chuckles',\n",
       " 'the importance of being earnest',\n",
       " 'of being earnest',\n",
       " 'being earnest',\n",
       " 'offers opportunities for occasional smiles and chuckles',\n",
       " 'offers opportunities for occasional smiles and',\n",
       " 'offers opportunities for occasional smiles',\n",
       " 'offers',\n",
       " 'opportunities for occasional smiles',\n",
       " 'opportunities',\n",
       " 'for occasional smiles',\n",
       " 'occasional smiles',\n",
       " 'occasional',\n",
       " 'smiles',\n",
       " 'chuckles',\n",
       " \" it does n't give us a reason to be in the theater beyond wilde 's wit and the actors ' performances \",\n",
       " \"it does n't give us a reason to be in the theater beyond wilde 's wit and the actors ' performances \",\n",
       " \"does n't give us a reason to be in the theater beyond wilde 's wit and the actors ' performances \",\n",
       " \"does n't give us a reason to be in the theater beyond wilde 's wit and the actors ' performances\",\n",
       " \"give us a reason to be in the theater beyond wilde 's wit and the actors ' performances\",\n",
       " 'give us',\n",
       " 'give',\n",
       " \"a reason to be in the theater beyond wilde 's wit and the actors ' performances\",\n",
       " \"reason to be in the theater beyond wilde 's wit and the actors ' performances\",\n",
       " \"to be in the theater beyond wilde 's wit and the actors ' performances\",\n",
       " \"be in the theater beyond wilde 's wit and the actors ' performances\",\n",
       " 'be in the theater',\n",
       " 'in the theater',\n",
       " 'the theater',\n",
       " 'theater',\n",
       " \"beyond wilde 's wit and the actors ' performances\",\n",
       " 'beyond',\n",
       " \"wilde 's wit and the actors ' performances\",\n",
       " \"wilde 's wit and\",\n",
       " \"wilde 's wit\",\n",
       " \"wilde 's\",\n",
       " 'wilde',\n",
       " \"the actors ' performances\",\n",
       " \"the actors '\",\n",
       " \"actors '\",\n",
       " 'actors',\n",
       " \"'\",\n",
       " \"the latest vapid actor 's exercise to appropriate the structure of arthur schnitzler 's reigen \",\n",
       " 'the latest',\n",
       " 'latest',\n",
       " \"vapid actor 's exercise to appropriate the structure of arthur schnitzler 's reigen \",\n",
       " \"vapid actor 's exercise to appropriate the structure of arthur schnitzler 's reigen\",\n",
       " \"vapid actor 's exercise\",\n",
       " 'vapid',\n",
       " \"actor 's exercise\",\n",
       " \"actor 's\",\n",
       " 'actor',\n",
       " 'exercise',\n",
       " \"to appropriate the structure of arthur schnitzler 's reigen\",\n",
       " \"appropriate the structure of arthur schnitzler 's reigen\",\n",
       " 'appropriate the structure',\n",
       " 'appropriate',\n",
       " 'the structure',\n",
       " 'structure',\n",
       " \"of arthur schnitzler 's reigen\",\n",
       " \"arthur schnitzler 's reigen\",\n",
       " \"arthur schnitzler 's\",\n",
       " 'arthur',\n",
       " \"schnitzler 's\",\n",
       " 'schnitzler',\n",
       " 'reigen',\n",
       " \"more vaudeville show than well constructed narrative  but on those terms it 's inoffensive and actually rather sweet \",\n",
       " \"more vaudeville show than well constructed narrative  but on those terms it 's inoffensive and actually rather sweet\",\n",
       " 'more vaudeville show than well constructed narrative  but',\n",
       " 'more vaudeville show than well constructed narrative ',\n",
       " 'more vaudeville show than well constructed narrative',\n",
       " 'more vaudeville',\n",
       " 'vaudeville',\n",
       " 'show than well constructed narrative',\n",
       " 'show',\n",
       " 'than well constructed narrative',\n",
       " 'than',\n",
       " 'well constructed narrative',\n",
       " 'well constructed',\n",
       " 'narrative',\n",
       " \"on those terms it 's inoffensive and actually rather sweet\",\n",
       " 'on those terms',\n",
       " 'on',\n",
       " 'those terms',\n",
       " 'those',\n",
       " 'terms',\n",
       " \"it 's inoffensive and actually rather sweet\",\n",
       " \"'s inoffensive and actually rather sweet\",\n",
       " 'inoffensive and actually rather sweet',\n",
       " 'inoffensive and actually',\n",
       " 'inoffensive and',\n",
       " 'inoffensive',\n",
       " 'actually',\n",
       " 'rather sweet',\n",
       " 'rather',\n",
       " 'nothing more than a run of the mill action flick ',\n",
       " 'more than a run of the mill action flick ',\n",
       " 'more than a run of the mill action',\n",
       " 'than a run of the mill action',\n",
       " 'a run of the mill action',\n",
       " 'run of the mill action',\n",
       " 'run of the mill',\n",
       " 'action',\n",
       " 'flick ',\n",
       " 'hampered    no  paralyzed    by a self indulgent script  that aims for poetry and ends up sounding like satire ',\n",
       " 'hampered    no  paralyzed    by a self indulgent script  that aims for poetry and ends up sounding like satire',\n",
       " 'hampered    no  paralyzed    by a self indulgent script ',\n",
       " 'hampered    no  paralyzed    by a self indulgent script',\n",
       " 'hampered    no  paralyzed   ',\n",
       " 'hampered',\n",
       " '   no  paralyzed   ',\n",
       " 'no  paralyzed   ',\n",
       " 'no  paralyzed',\n",
       " 'no',\n",
       " ' paralyzed',\n",
       " 'paralyzed',\n",
       " 'by a self indulgent script',\n",
       " 'a self indulgent script',\n",
       " 'self indulgent script',\n",
       " 'self indulgent',\n",
       " 'script',\n",
       " '',\n",
       " 'that aims for poetry and ends up sounding like satire',\n",
       " 'aims for poetry and ends up sounding like satire',\n",
       " 'aims for poetry and',\n",
       " 'aims for poetry',\n",
       " 'aims',\n",
       " 'for poetry',\n",
       " 'poetry',\n",
       " 'ends up sounding like satire',\n",
       " 'ends up',\n",
       " 'ends',\n",
       " 'up',\n",
       " 'sounding like satire',\n",
       " 'sounding',\n",
       " 'like satire',\n",
       " 'satire',\n",
       " 'ice age is the first computer generated feature cartoon to feel like other movies  and that makes for some glacial pacing early on ',\n",
       " 'ice age is the first computer generated feature cartoon to feel like other movies  and that makes for some glacial pacing early on',\n",
       " 'ice age is the first computer generated feature cartoon to feel like other movies  and',\n",
       " 'ice age is the first computer generated feature cartoon to feel like other movies ',\n",
       " 'ice age is the first computer generated feature cartoon to feel like other movies',\n",
       " 'ice age',\n",
       " 'ice',\n",
       " 'age',\n",
       " 'is the first computer generated feature cartoon to feel like other movies',\n",
       " 'the first computer generated feature cartoon to feel like other movies',\n",
       " 'the first computer generated feature cartoon',\n",
       " 'first computer generated feature cartoon',\n",
       " 'first',\n",
       " 'computer generated feature cartoon',\n",
       " 'computer generated',\n",
       " 'feature cartoon',\n",
       " 'feature',\n",
       " 'cartoon',\n",
       " 'to feel like other movies',\n",
       " 'feel like other movies',\n",
       " 'feel',\n",
       " 'like other movies',\n",
       " 'other movies',\n",
       " 'other',\n",
       " 'that makes for some glacial pacing early on',\n",
       " 'makes for some glacial pacing early on',\n",
       " 'makes for some glacial pacing',\n",
       " 'makes',\n",
       " 'for some glacial pacing',\n",
       " 'some glacial pacing',\n",
       " 'glacial pacing',\n",
       " 'glacial',\n",
       " 'pacing',\n",
       " 'early on',\n",
       " 'early',\n",
       " \"there 's very little sense to what 's going on here  but the makers serve up the cliches with considerable dash \",\n",
       " \"there 's very little sense to what 's going on here  but the makers serve up the cliches with considerable dash\",\n",
       " \"there 's very little sense to what 's going on here  but\",\n",
       " \"there 's very little sense to what 's going on here \",\n",
       " \"there 's very little sense to what 's going on here\",\n",
       " \"'s very little sense to what 's going on here\",\n",
       " \"very little sense to what 's going on here\",\n",
       " 'very little sense',\n",
       " 'very little',\n",
       " \"to what 's going on here\",\n",
       " \"what 's going on here\",\n",
       " \"'s going on here\",\n",
       " 'going on here',\n",
       " 'going on',\n",
       " 'here',\n",
       " 'the makers serve up the cliches with considerable dash',\n",
       " 'the makers',\n",
       " 'makers',\n",
       " 'serve up the cliches with considerable dash',\n",
       " 'serve up',\n",
       " 'serve',\n",
       " 'the cliches with considerable dash',\n",
       " 'the cliches',\n",
       " 'cliches',\n",
       " 'with considerable dash',\n",
       " 'considerable dash',\n",
       " 'considerable',\n",
       " 'dash',\n",
       " 'cattaneo should have followed the runaway success of his first film  the full monty  with something different ',\n",
       " 'cattaneo',\n",
       " 'should have followed the runaway success of his first film  the full monty  with something different ',\n",
       " 'should have followed the runaway success of his first film  the full monty  with something different',\n",
       " 'have followed the runaway success of his first film  the full monty  with something different',\n",
       " 'followed the runaway success of his first film  the full monty  with something different',\n",
       " 'followed the runaway success of his first film  the full monty ',\n",
       " 'followed',\n",
       " 'the runaway success of his first film  the full monty ',\n",
       " 'the runaway success',\n",
       " 'runaway success',\n",
       " 'runaway',\n",
       " 'success',\n",
       " 'of his first film  the full monty ',\n",
       " 'his first film  the full monty ',\n",
       " 'his first film  the full monty',\n",
       " 'his first film ',\n",
       " 'his first film',\n",
       " 'first film',\n",
       " 'the full monty',\n",
       " 'full monty',\n",
       " 'full',\n",
       " 'monty',\n",
       " 'with something different',\n",
       " 'something different',\n",
       " 'different',\n",
       " \"they 're the unnamed  easily substitutable forces that serve as whatever terror the heroes of horror movies try to avoid \",\n",
       " 'they',\n",
       " \"'re the unnamed  easily substitutable forces that serve as whatever terror the heroes of horror movies try to avoid \",\n",
       " \"'re the unnamed  easily substitutable forces that serve as whatever terror the heroes of horror movies try to avoid\",\n",
       " \"'re\",\n",
       " 'the unnamed  easily substitutable forces that serve as whatever terror the heroes of horror movies try to avoid',\n",
       " 'the unnamed  easily substitutable forces',\n",
       " 'unnamed  easily substitutable forces',\n",
       " 'unnamed  easily substitutable',\n",
       " 'unnamed',\n",
       " ' easily substitutable',\n",
       " 'easily substitutable',\n",
       " 'easily',\n",
       " 'substitutable',\n",
       " 'forces',\n",
       " 'that serve as whatever terror the heroes of horror movies try to avoid',\n",
       " 'serve as whatever terror the heroes of horror movies try to avoid',\n",
       " 'as whatever terror the heroes of horror movies try to avoid',\n",
       " 'whatever terror the heroes of horror movies try to avoid',\n",
       " 'whatever',\n",
       " 'terror the heroes of horror movies try to avoid',\n",
       " 'terror',\n",
       " 'the heroes of horror movies try to avoid',\n",
       " 'the heroes of horror movies',\n",
       " 'the heroes',\n",
       " 'heroes',\n",
       " 'of horror movies',\n",
       " 'horror movies',\n",
       " 'horror',\n",
       " 'try to avoid',\n",
       " ...]"
      ]
     },
     "execution_count": 16,
     "metadata": {},
     "output_type": "execute_result"
    }
   ],
   "source": [
    "reviews_test_clean"
   ]
  },
  {
   "cell_type": "markdown",
   "metadata": {
    "colab_type": "text",
    "id": "SV-PjXMqn1KR"
   },
   "source": [
    "### **Support Vector Machine Algorithm**"
   ]
  },
  {
   "cell_type": "code",
   "execution_count": 17,
   "metadata": {
    "colab": {
     "base_uri": "https://localhost:8080/",
     "height": 104
    },
    "colab_type": "code",
    "id": "JtSRHlQqOjqr",
    "outputId": "20e146df-ab81-4b1e-b1e8-3663742a080c"
   },
   "outputs": [
    {
     "name": "stdout",
     "output_type": "stream",
     "text": [
      "Accuracy for C=0.001: 0.5623221837754709\n",
      "Accuracy for C=0.005: 0.6052543893374344\n",
      "Accuracy for C=0.01: 0.6249647571446879\n",
      "Accuracy for C=0.05: 0.6543637062668205\n",
      "Accuracy for C=0.1: 0.6577470203767781\n"
     ]
    }
   ],
   "source": [
    "from sklearn.feature_extraction.text import CountVectorizer\n",
    "from sklearn.model_selection import train_test_split\n",
    "from sklearn.metrics import accuracy_score\n",
    "from sklearn.svm import LinearSVC\n",
    "\n",
    "\n",
    "stop_words = ['in', 'of', 'at', 'a', 'the']\n",
    "ngram_vectorizer = CountVectorizer(binary=True, ngram_range=(1, 3), stop_words=stop_words)\n",
    "ngram_vectorizer.fit(reviews_train_clean)\n",
    "X = ngram_vectorizer.transform(reviews_train_clean)\n",
    "X_test = ngram_vectorizer.transform(reviews_test_clean)\n",
    "\n",
    "X_train, X_val, y_train, y_val = train_test_split(\n",
    "    X, messages['label'], train_size = 0.75\n",
    ")\n",
    "\n",
    "for c in [0.001, 0.005, 0.01, 0.05, 0.1]:\n",
    "    \n",
    "    svm = LinearSVC(C=c)\n",
    "    svm.fit(X_train, y_train)\n",
    "    print (\"Accuracy for C=%s: %s\" \n",
    "           % (c, accuracy_score(y_val, svm.predict(X_val))))\n",
    "    \n",
    "# Accuracy for C=0.001: 0.5589388696655133\n",
    "# Accuracy for C=0.005: 0.6057413815199282\n",
    "# Accuracy for C=0.01: 0.6257080610021787\n",
    "# Accuracy for C=0.05: 0.6575419710367807\n",
    "# Accuracy for C=0.1: 0.6615404331667307\n",
    "    \n"
   ]
  },
  {
   "cell_type": "markdown",
   "metadata": {
    "colab_type": "text",
    "id": "LIM6EWQNeYNv"
   },
   "source": [
    "### **Again Splitting For further Checking**"
   ]
  },
  {
   "cell_type": "code",
   "execution_count": 0,
   "metadata": {
    "colab": {},
    "colab_type": "code",
    "id": "7oB_iGBqeh5Q"
   },
   "outputs": [],
   "source": [
    "Review_X_train,review_x_test, Label_X_val, label_y_val = train_test_split(\n",
    "    reviews_test_clean, messages['label'], train_size = 0.75\n",
    ")"
   ]
  },
  {
   "cell_type": "code",
   "execution_count": 58,
   "metadata": {
    "colab": {
     "base_uri": "https://localhost:8080/",
     "height": 280
    },
    "colab_type": "code",
    "id": "_5TRoIr6esTl",
    "outputId": "d81b5a92-b7c2-4166-f066-4d67cc8bf1e2"
   },
   "outputs": [
    {
     "data": {
      "text/plain": [
       "(['sociopathy',\n",
       "  \"this one is a few bits funnier than malle 's dud  if only because the cast is so engagingly messing around like slob city reductions of damon runyon crooks \",\n",
       "  'their surroundings'],\n",
       " ['without becoming one itself',\n",
       "  'for having the guts to confront it',\n",
       "  'too extreme for tv rendition'],\n",
       " 124014    2\n",
       " 130180    3\n",
       " 38217     3\n",
       " Name: label, dtype: int64,\n",
       " 103373    2\n",
       " 141797    2\n",
       " 78073     2\n",
       " Name: label, dtype: int64)"
      ]
     },
     "execution_count": 58,
     "metadata": {
      "tags": []
     },
     "output_type": "execute_result"
    }
   ],
   "source": [
    "Review_X_train[:3], Label_X_val[:3], review_x_test[:3], label_y_val[:3]"
   ]
  },
  {
   "cell_type": "markdown",
   "metadata": {
    "colab_type": "text",
    "id": "EU3SMEqFaOhv"
   },
   "source": [
    "### **Term Frequency-Inverse Document Frequency model (TFIDF)**"
   ]
  },
  {
   "cell_type": "code",
   "execution_count": 62,
   "metadata": {
    "colab": {
     "base_uri": "https://localhost:8080/",
     "height": 52
    },
    "colab_type": "code",
    "id": "mNZJ3RTzaNgN",
    "outputId": "96753d20-ea35-4035-824a-832b513cbb30"
   },
   "outputs": [
    {
     "name": "stdout",
     "output_type": "stream",
     "text": [
      "Tfidf_train: (117045, 17097)\n",
      "Tfidf_test: (39015, 17097)\n"
     ]
    }
   ],
   "source": [
    "from sklearn.feature_extraction.text import TfidfVectorizer\n",
    "#Tfidf vectorizer\n",
    "tv=TfidfVectorizer(min_df=0,max_df=1,use_idf=True,ngram_range=(1,3))\n",
    "#transformed train reviews\n",
    "tv_train_reviews=tv.fit_transform(Review_X_train)\n",
    "#transformed test reviews\n",
    "tv_test_reviews=tv.transform(review_x_test)\n",
    "print('Tfidf_train:',tv_train_reviews.shape)\n",
    "print('Tfidf_test:',tv_test_reviews.shape)"
   ]
  },
  {
   "cell_type": "markdown",
   "metadata": {
    "colab_type": "text",
    "id": "4HOwUc6OhzmF"
   },
   "source": [
    "### **Bags of words model (Count Vectorizer)**"
   ]
  },
  {
   "cell_type": "code",
   "execution_count": 63,
   "metadata": {
    "colab": {
     "base_uri": "https://localhost:8080/",
     "height": 52
    },
    "colab_type": "code",
    "id": "FUsj1FY4h70C",
    "outputId": "c432a27f-362c-46e0-9105-d349249184a3"
   },
   "outputs": [
    {
     "name": "stdout",
     "output_type": "stream",
     "text": [
      "BOW_cv_train: (117045, 17097)\n",
      "BOW_cv_test: (39015, 17097)\n"
     ]
    }
   ],
   "source": [
    "#Count vectorizer for bag of words\n",
    "cv=CountVectorizer(min_df=0,max_df=1,binary=False,ngram_range=(1,3))\n",
    "#transformed train reviews\n",
    "cv_train_reviews=cv.fit_transform(Review_X_train)\n",
    "#transformed test reviews\n",
    "cv_test_reviews=cv.transform(review_x_test)\n",
    "\n",
    "print('BOW_cv_train:',cv_train_reviews.shape)\n",
    "print('BOW_cv_test:',cv_test_reviews.shape)\n",
    "#vocab=cv.get_feature_names()-toget feature names\n"
   ]
  },
  {
   "cell_type": "markdown",
   "metadata": {
    "colab_type": "text",
    "id": "vMM1ywuFbIyU"
   },
   "source": [
    "### **Logistic Regression Model**"
   ]
  },
  {
   "cell_type": "code",
   "execution_count": 64,
   "metadata": {
    "colab": {
     "base_uri": "https://localhost:8080/",
     "height": 280
    },
    "colab_type": "code",
    "id": "rSkUEFSWbsRP",
    "outputId": "188278aa-4616-4108-c30e-737bbb3f5511"
   },
   "outputs": [
    {
     "name": "stderr",
     "output_type": "stream",
     "text": [
      "/usr/local/lib/python3.6/dist-packages/sklearn/linear_model/logistic.py:432: FutureWarning: Default solver will be changed to 'lbfgs' in 0.22. Specify a solver to silence this warning.\n",
      "  FutureWarning)\n",
      "/usr/local/lib/python3.6/dist-packages/sklearn/linear_model/logistic.py:469: FutureWarning: Default multi_class will be changed to 'auto' in 0.22. Specify the multi_class option to silence this warning.\n",
      "  \"this warning.\", FutureWarning)\n"
     ]
    },
    {
     "name": "stdout",
     "output_type": "stream",
     "text": [
      "LogisticRegression(C=1, class_weight=None, dual=False, fit_intercept=True,\n",
      "                   intercept_scaling=1, l1_ratio=None, max_iter=500,\n",
      "                   multi_class='warn', n_jobs=None, penalty='l2',\n",
      "                   random_state=42, solver='warn', tol=0.0001, verbose=0,\n",
      "                   warm_start=False)\n",
      "LogisticRegression(C=1, class_weight=None, dual=False, fit_intercept=True,\n",
      "                   intercept_scaling=1, l1_ratio=None, max_iter=500,\n",
      "                   multi_class='warn', n_jobs=None, penalty='l2',\n",
      "                   random_state=42, solver='warn', tol=0.0001, verbose=0,\n",
      "                   warm_start=False)\n"
     ]
    }
   ],
   "source": [
    "#training the model\n",
    "lr=LogisticRegression(penalty='l2',max_iter=500,C=1,random_state=42)\n",
    "#Fitting the model for Bag of words\n",
    "lr_bow=lr.fit(cv_train_reviews,Label_X_val)\n",
    "print(lr_bow)\n",
    "#Fitting the model for tfidf features\n",
    "lr_tfidf=lr.fit(tv_train_reviews, Label_X_val)\n",
    "print(lr_tfidf)"
   ]
  },
  {
   "cell_type": "code",
   "execution_count": 65,
   "metadata": {
    "colab": {
     "base_uri": "https://localhost:8080/",
     "height": 52
    },
    "colab_type": "code",
    "id": "lYbW-ajibHh4",
    "outputId": "5fc1bca8-cd5d-4645-f4bf-7486c3e5e742"
   },
   "outputs": [
    {
     "name": "stdout",
     "output_type": "stream",
     "text": [
      "[2 2 2 ... 2 2 2]\n",
      "[2 2 2 ... 2 2 2]\n"
     ]
    }
   ],
   "source": [
    "#Predicting the model for bag of words\n",
    "lr_bow_predict=lr.predict(cv_test_reviews)\n",
    "print(lr_bow_predict)\n",
    "##Predicting the model for tfidf features\n",
    "lr_tfidf_predict=lr.predict(tv_test_reviews)\n",
    "print(lr_tfidf_predict)"
   ]
  },
  {
   "cell_type": "code",
   "execution_count": 67,
   "metadata": {
    "colab": {
     "base_uri": "https://localhost:8080/",
     "height": 52
    },
    "colab_type": "code",
    "id": "MzIRAAlOjGCr",
    "outputId": "64e6b078-d60c-42ee-f286-a9627d582fcf"
   },
   "outputs": [
    {
     "name": "stdout",
     "output_type": "stream",
     "text": [
      "lr_bow_score : 0.5197744457260028\n",
      "lr_tfidf_score : 0.510880430603614\n"
     ]
    }
   ],
   "source": [
    "#Accuracy score for bag of words\n",
    "lr_bow_score=accuracy_score(label_y_val,lr_bow_predict)\n",
    "print(\"lr_bow_score :\",lr_bow_score)\n",
    "#Accuracy score for tfidf features\n",
    "lr_tfidf_score=accuracy_score(label_y_val,lr_tfidf_predict)\n",
    "print(\"lr_tfidf_score :\",lr_tfidf_score)"
   ]
  },
  {
   "cell_type": "markdown",
   "metadata": {
    "colab_type": "text",
    "id": "4Xi8VZTHjoBo"
   },
   "source": [
    "### **Multinomial Naive Bayes**"
   ]
  },
  {
   "cell_type": "code",
   "execution_count": 68,
   "metadata": {
    "colab": {
     "base_uri": "https://localhost:8080/",
     "height": 52
    },
    "colab_type": "code",
    "id": "fiKwEH1cj_c9",
    "outputId": "cf934b88-3e6a-4565-9603-931b42fdc36f"
   },
   "outputs": [
    {
     "name": "stdout",
     "output_type": "stream",
     "text": [
      "MultinomialNB(alpha=1.0, class_prior=None, fit_prior=True)\n",
      "MultinomialNB(alpha=1.0, class_prior=None, fit_prior=True)\n"
     ]
    }
   ],
   "source": [
    "#training the model\n",
    "mnb=MultinomialNB()\n",
    "#fitting the svm for bag of words\n",
    "mnb_bow=mnb.fit(cv_train_reviews,Label_X_val)\n",
    "print(mnb_bow)\n",
    "#fitting the svm for tfidf features\n",
    "mnb_tfidf=mnb.fit(tv_train_reviews,Label_X_val)\n",
    "print(mnb_tfidf)"
   ]
  },
  {
   "cell_type": "code",
   "execution_count": 69,
   "metadata": {
    "colab": {
     "base_uri": "https://localhost:8080/",
     "height": 52
    },
    "colab_type": "code",
    "id": "ebqygUdaj_UZ",
    "outputId": "7b3ecc7d-b1f6-41d5-da64-2f26128f1a87"
   },
   "outputs": [
    {
     "name": "stdout",
     "output_type": "stream",
     "text": [
      "[2 2 2 ... 2 2 2]\n",
      "[2 2 2 ... 2 2 2]\n"
     ]
    }
   ],
   "source": [
    "#Predicting the model for bag of words\n",
    "mnb_bow_predict=mnb.predict(cv_test_reviews)\n",
    "print(mnb_bow_predict)\n",
    "#Predicting the model for tfidf features\n",
    "mnb_tfidf_predict=mnb.predict(tv_test_reviews)\n",
    "print(mnb_tfidf_predict)"
   ]
  },
  {
   "cell_type": "code",
   "execution_count": 71,
   "metadata": {
    "colab": {
     "base_uri": "https://localhost:8080/",
     "height": 52
    },
    "colab_type": "code",
    "id": "iFcR1XMKj_AL",
    "outputId": "c277b124-0a87-4831-d3d7-c460b2d7166c"
   },
   "outputs": [
    {
     "name": "stdout",
     "output_type": "stream",
     "text": [
      "mnb_bow_score : 0.5198513392285019\n",
      "mnb_tfidf_score : 0.5109316929386134\n"
     ]
    }
   ],
   "source": [
    "#Accuracy score for bag of words\n",
    "mnb_bow_score=accuracy_score(label_y_val,mnb_bow_predict)\n",
    "print(\"mnb_bow_score :\",mnb_bow_score)\n",
    "#Accuracy score for tfidf features\n",
    "mnb_tfidf_score=accuracy_score(label_y_val,mnb_tfidf_predict)\n",
    "print(\"mnb_tfidf_score :\",mnb_tfidf_score)"
   ]
  },
  {
   "cell_type": "markdown",
   "metadata": {
    "colab_type": "text",
    "id": "uKT3FIyva7na"
   },
   "source": [
    "### **Final Model with SVM**"
   ]
  },
  {
   "cell_type": "code",
   "execution_count": 18,
   "metadata": {
    "colab": {
     "base_uri": "https://localhost:8080/",
     "height": 35
    },
    "colab_type": "code",
    "id": "iRm9WR0qOjoF",
    "outputId": "1f0bcf51-c0a3-48f4-a35b-f5fe334252a3"
   },
   "outputs": [
    {
     "name": "stdout",
     "output_type": "stream",
     "text": [
      "Final Accuracy: 0.705760604895553\n"
     ]
    }
   ],
   "source": [
    "final = LinearSVC(C=0.01)\n",
    "final.fit(X, messages['label'])\n",
    "print (\"Final Accuracy: %s\" \n",
    "       % accuracy_score(messages['label'], final.predict(X_test)))\n",
    "\n",
    "# Final Accuracy: 0.7057477893118032"
   ]
  },
  {
   "cell_type": "code",
   "execution_count": null,
   "metadata": {},
   "outputs": [],
   "source": [
    "from sklearn.pipeline import Pipeline\n",
    "\n",
    "pipeline = Pipeline([\n",
    "    ('bow', CountVectorizer()),  # strings to token integer counts\n",
    "    ('tfidf', TfidfTransformer()),  # integer counts to weighted TF-IDF scores\n",
    "    ('classifier', MultinomialNB()),  # train on TF-IDF vectors w/ Naive Bayes classifier\n",
    "])"
   ]
  },
  {
   "cell_type": "markdown",
   "metadata": {
    "colab_type": "text",
    "id": "lNacIAb9TYW1"
   },
   "source": [
    "### **Top Positive and Negetive**"
   ]
  },
  {
   "cell_type": "code",
   "execution_count": 17,
   "metadata": {
    "colab": {
     "base_uri": "https://localhost:8080/",
     "height": 416
    },
    "colab_type": "code",
    "id": "B2U2y1PiOjlQ",
    "outputId": "cf801329-2768-4b98-9bf8-ce556c78266c"
   },
   "outputs": [
    {
     "name": "stdout",
     "output_type": "stream",
     "text": [
      "('worst', 0.6150439479026035)\n",
      "('awful', 0.5537510084344501)\n",
      "('stupid', 0.5264276794370235)\n",
      "('bad', 0.48051485728993226)\n",
      "('terrible', 0.45874391687135413)\n",
      "('waste', 0.4574669354805161)\n",
      "('dull', 0.43498631081601336)\n",
      "('mess', 0.41636589496192644)\n",
      "('ugly', 0.39753496858485504)\n",
      "('unfunny', 0.3970731396231451)\n",
      "\n",
      "\n",
      "\n",
      "('not bad', -0.1631922436537078)\n",
      "('too bad', -0.15204359694673694)\n",
      "('while', -0.12352233605980303)\n",
      "('though', -0.11957393069817218)\n",
      "('but', -0.11855480240425631)\n",
      "('although', -0.11117196359267485)\n",
      "('bad boy', -0.11023789152460717)\n",
      "('never dull', -0.10497046880262166)\n",
      "('somewhat', -0.09537557699094484)\n",
      "('hilarious', -0.09265767758344304)\n"
     ]
    }
   ],
   "source": [
    "feature_to_coef = {\n",
    "    word: coef for word, coef in zip(\n",
    "        ngram_vectorizer.get_feature_names(), final.coef_[0]\n",
    "    )\n",
    "}\n",
    "\n",
    "for best_positive in sorted(\n",
    "    feature_to_coef.items(), \n",
    "    key=lambda x: x[1], \n",
    "    reverse=True)[:10]:\n",
    "    print (best_positive)\n",
    "    \n",
    "print(\"\\n\\n\")\n",
    "for best_negative in sorted(\n",
    "    feature_to_coef.items(), \n",
    "    key=lambda x: x[1])[:10]:\n",
    "    print (best_negative)"
   ]
  },
  {
   "cell_type": "markdown",
   "metadata": {
    "colab_type": "text",
    "id": "M77PQKYaTqgq"
   },
   "source": [
    "### **Predict String**"
   ]
  },
  {
   "cell_type": "code",
   "execution_count": 0,
   "metadata": {
    "colab": {},
    "colab_type": "code",
    "id": "GDNP14_UvfCR"
   },
   "outputs": [],
   "source": [
    "from sklearn.feature_extraction.text import CountVectorizer\n",
    "\n",
    "stop_words = ['in', 'of', 'at', 'a', 'the']\n",
    "ngram_vectorizer = CountVectorizer(binary=True, ngram_range=(1, 3), stop_words=stop_words)"
   ]
  },
  {
   "cell_type": "code",
   "execution_count": 25,
   "metadata": {
    "colab": {
     "base_uri": "https://localhost:8080/",
     "height": 35
    },
    "colab_type": "code",
    "id": "y9YaSd0EOjji",
    "outputId": "1f8a34e6-045b-40cc-8d12-49ad74e45e03"
   },
   "outputs": [
    {
     "data": {
      "text/plain": [
       "array([1, 1], dtype=int64)"
      ]
     },
     "execution_count": 25,
     "metadata": {},
     "output_type": "execute_result"
    }
   ],
   "source": [
    "final.predict(ngram_vectorizer.transform(['this is not good', 'this is not a good movie']))"
   ]
  },
  {
   "cell_type": "markdown",
   "metadata": {},
   "source": [
    "### Save and Load by pickle"
   ]
  },
  {
   "cell_type": "markdown",
   "metadata": {},
   "source": [
    "Load Count Vectorize"
   ]
  },
  {
   "cell_type": "code",
   "execution_count": 1,
   "metadata": {},
   "outputs": [],
   "source": [
    "import pickle\n",
    "filename = 'cvectorize.sav'"
   ]
  },
  {
   "cell_type": "code",
   "execution_count": 29,
   "metadata": {},
   "outputs": [],
   "source": [
    "# save the vectorize to disk\n",
    "\n",
    "#pickle.dump(ngram_vectorizer, open(filename, 'wb'))"
   ]
  },
  {
   "cell_type": "code",
   "execution_count": 2,
   "metadata": {},
   "outputs": [],
   "source": [
    "# load the model from disk\n",
    "loaded_vect = pickle.load(open(filename, 'rb'))"
   ]
  },
  {
   "cell_type": "markdown",
   "metadata": {},
   "source": [
    "Load Model to Predict"
   ]
  },
  {
   "cell_type": "code",
   "execution_count": 3,
   "metadata": {},
   "outputs": [],
   "source": [
    "import pickle\n",
    "filename = 'sentiment.sav'"
   ]
  },
  {
   "cell_type": "code",
   "execution_count": 24,
   "metadata": {},
   "outputs": [],
   "source": [
    "# save the model to disk\n",
    "\n",
    "#pickle.dump(final, open(filename, 'wb'))"
   ]
  },
  {
   "cell_type": "code",
   "execution_count": 4,
   "metadata": {},
   "outputs": [],
   "source": [
    "# load the model from disk\n",
    "loaded_model = pickle.load(open(filename, 'rb'))"
   ]
  },
  {
   "cell_type": "markdown",
   "metadata": {},
   "source": [
    "Time to Predict"
   ]
  },
  {
   "cell_type": "code",
   "execution_count": 7,
   "metadata": {},
   "outputs": [
    {
     "data": {
      "text/plain": [
       "array([3, 2], dtype=int64)"
      ]
     },
     "execution_count": 7,
     "metadata": {},
     "output_type": "execute_result"
    }
   ],
   "source": [
    "loaded_model.predict(loaded_vect.transform(['this is super good', 'this is not bad']))"
   ]
  },
  {
   "cell_type": "markdown",
   "metadata": {
    "colab_type": "text",
    "id": "91FQuWbIUu-G"
   },
   "source": [
    "### **Finding** **Error**"
   ]
  },
  {
   "cell_type": "code",
   "execution_count": 0,
   "metadata": {
    "colab": {},
    "colab_type": "code",
    "id": "iM6FiRdKVtLE"
   },
   "outputs": [],
   "source": [
    "y_pred = svm.predict(X_val)"
   ]
  },
  {
   "cell_type": "code",
   "execution_count": 39,
   "metadata": {
    "colab": {
     "base_uri": "https://localhost:8080/",
     "height": 35
    },
    "colab_type": "code",
    "id": "2pxujMlWOjge",
    "outputId": "214c1a84-b2e7-44d7-8597-1b8377378ea8"
   },
   "outputs": [
    {
     "data": {
      "text/plain": [
       "0.4222478533897219"
      ]
     },
     "execution_count": 39,
     "metadata": {
      "tags": []
     },
     "output_type": "execute_result"
    }
   ],
   "source": [
    "mse = ((y_pred - y_val) ** 2).mean()\n",
    "\n",
    "mse"
   ]
  },
  {
   "cell_type": "code",
   "execution_count": 41,
   "metadata": {
    "colab": {
     "base_uri": "https://localhost:8080/",
     "height": 35
    },
    "colab_type": "code",
    "id": "yacdz22IOjeX",
    "outputId": "7e370b79-658c-4977-ed0d-ebdb006858e5"
   },
   "outputs": [
    {
     "data": {
      "text/plain": [
       "0.6498060121218654"
      ]
     },
     "execution_count": 41,
     "metadata": {
      "tags": []
     },
     "output_type": "execute_result"
    }
   ],
   "source": [
    "from math import sqrt\n",
    "rmse = sqrt(mse)\n",
    "rmse"
   ]
  },
  {
   "cell_type": "code",
   "execution_count": 0,
   "metadata": {
    "colab": {},
    "colab_type": "code",
    "id": "US1h4yUTOjbG"
   },
   "outputs": [],
   "source": []
  },
  {
   "cell_type": "code",
   "execution_count": 0,
   "metadata": {
    "colab": {},
    "colab_type": "code",
    "id": "U2qYWnsoOjYY"
   },
   "outputs": [],
   "source": []
  }
 ],
 "metadata": {
  "colab": {
   "collapsed_sections": [
    "W9Pia_OFnPTy",
    "wnXkivFActVR",
    "f2AnCTxN8Lov",
    "VNip6pGiqcMw",
    "5oB79CkQopHU",
    "ShWP3DsMni14",
    "LIM6EWQNeYNv",
    "EU3SMEqFaOhv",
    "4HOwUc6OhzmF",
    "vMM1ywuFbIyU",
    "4Xi8VZTHjoBo",
    "uKT3FIyva7na",
    "lNacIAb9TYW1",
    "91FQuWbIUu-G"
   ],
   "machine_shape": "hm",
   "name": "Sentiment Analysis on movie review -m.ipynb",
   "provenance": []
  },
  "kernelspec": {
   "display_name": "Python 3",
   "language": "python",
   "name": "python3"
  },
  "language_info": {
   "codemirror_mode": {
    "name": "ipython",
    "version": 3
   },
   "file_extension": ".py",
   "mimetype": "text/x-python",
   "name": "python",
   "nbconvert_exporter": "python",
   "pygments_lexer": "ipython3",
   "version": "3.7.3"
  }
 },
 "nbformat": 4,
 "nbformat_minor": 1
}
